{
    "cells": [
        {
            "cell_type": "markdown",
            "metadata": {},
            "source": "<a href=\"https://cognitiveclass.ai/\">\n    <img src=\"https://s3-api.us-geo.objectstorage.softlayer.net/cf-courses-data/CognitiveClass/PY0101EN/Ad/CCLog.png\" width=\"200\" align=\"center\">\n</a>\n\n<h1 align=\"center\"><font size=\"5\"><b>Application Programming Interface</b></font></h1>"
        },
        {
            "cell_type": "markdown",
            "metadata": {},
            "source": "<p>In this notebook, you will learn to convert an audio file of an English speaker to text using a Speech to Text API. Then you will translate the English version to a Spanish version using a Language Translator API. <b>Note:</b> You must obtain the API keys and enpoints to complete the lab.</p>"
        },
        {
            "cell_type": "markdown",
            "metadata": {},
            "source": "<div class=\"alert alert-block alert-info\" style=\"margin-top: 20px\">\n    <a href=\"https://cocl.us/topNotebooksPython101Coursera\">\n         <img src=\"https://s3-api.us-geo.objectstorage.softlayer.net/cf-courses-data/CognitiveClass/PY0101EN/Ad/TopAd.png\" width=\"750\" align=\"center\">\n    </a>\n</div>"
        },
        {
            "cell_type": "markdown",
            "metadata": {},
            "source": "<div class=\"alert alert-block alert-info\" style=\"margin-top: 20px\">\n<h2>Table of Contents</h2>\n<ul>\n    <li><a href=\"#ref0\">Speech To Text</a></li>\n    <li><a href=\"#ref1\">Language Translator</a></li>\n    <li><a href=\"#ref2\">Exercise</a></li>\n</ul>\n<br>\n<p>Estimated Time Needed: <strong>25 min</strong></p>\n</div>"
        },
        {
            "cell_type": "code",
            "execution_count": 1,
            "metadata": {
                "jupyter": {
                    "outputs_hidden": false
                }
            },
            "outputs": [
                {
                    "name": "stdout",
                    "output_type": "stream",
                    "text": "Collecting ibm_watson\n\u001b[?25l  Downloading https://files.pythonhosted.org/packages/dc/da/10f8774b319acdda29885931c01fae862622519bff492957c73b0ba84743/ibm-watson-4.5.0.tar.gz (370kB)\n\u001b[K     |\u2588\u2588\u2588\u2588\u2588\u2588\u2588\u2588\u2588\u2588\u2588\u2588\u2588\u2588\u2588\u2588\u2588\u2588\u2588\u2588\u2588\u2588\u2588\u2588\u2588\u2588\u2588\u2588\u2588\u2588\u2588\u2588| 378kB 7.3MB/s eta 0:00:01\n\u001b[?25hRequirement already satisfied: requests<3.0,>=2.0 in /opt/conda/envs/Python36/lib/python3.6/site-packages (from ibm_watson) (2.21.0)\nRequirement already satisfied: python_dateutil>=2.5.3 in /opt/conda/envs/Python36/lib/python3.6/site-packages (from ibm_watson) (2.7.5)\nCollecting websocket-client==0.48.0 (from ibm_watson)\n\u001b[?25l  Downloading https://files.pythonhosted.org/packages/8a/a1/72ef9aa26cfe1a75cee09fc1957e4723add9de098c15719416a1ee89386b/websocket_client-0.48.0-py2.py3-none-any.whl (198kB)\n\u001b[K     |\u2588\u2588\u2588\u2588\u2588\u2588\u2588\u2588\u2588\u2588\u2588\u2588\u2588\u2588\u2588\u2588\u2588\u2588\u2588\u2588\u2588\u2588\u2588\u2588\u2588\u2588\u2588\u2588\u2588\u2588\u2588\u2588| 204kB 21.9MB/s eta 0:00:01\n\u001b[?25hCollecting ibm_cloud_sdk_core==1.5.1 (from ibm_watson)\n  Downloading https://files.pythonhosted.org/packages/b7/f6/10d5271c807d73d236e6ae07b68035fed78b28b5ab836704d34097af3986/ibm-cloud-sdk-core-1.5.1.tar.gz\nRequirement already satisfied: idna<2.9,>=2.5 in /opt/conda/envs/Python36/lib/python3.6/site-packages (from requests<3.0,>=2.0->ibm_watson) (2.8)\nRequirement already satisfied: chardet<3.1.0,>=3.0.2 in /opt/conda/envs/Python36/lib/python3.6/site-packages (from requests<3.0,>=2.0->ibm_watson) (3.0.4)\nRequirement already satisfied: certifi>=2017.4.17 in /opt/conda/envs/Python36/lib/python3.6/site-packages (from requests<3.0,>=2.0->ibm_watson) (2020.6.20)\nRequirement already satisfied: urllib3<1.25,>=1.21.1 in /opt/conda/envs/Python36/lib/python3.6/site-packages (from requests<3.0,>=2.0->ibm_watson) (1.24.1)\nRequirement already satisfied: six>=1.5 in /opt/conda/envs/Python36/lib/python3.6/site-packages (from python_dateutil>=2.5.3->ibm_watson) (1.12.0)\nCollecting PyJWT>=1.7.1 (from ibm_cloud_sdk_core==1.5.1->ibm_watson)\n  Downloading https://files.pythonhosted.org/packages/87/8b/6a9f14b5f781697e51259d81657e6048fd31a113229cf346880bb7545565/PyJWT-1.7.1-py2.py3-none-any.whl\nBuilding wheels for collected packages: ibm-watson, ibm-cloud-sdk-core\n  Building wheel for ibm-watson (setup.py) ... \u001b[?25ldone\n\u001b[?25h  Stored in directory: /home/dsxuser/.cache/pip/wheels/71/9a/0a/9b3ca8eca69bc5362eb04709a750b30055a9d27818fd0c9494\n  Building wheel for ibm-cloud-sdk-core (setup.py) ... \u001b[?25ldone\n\u001b[?25h  Stored in directory: /home/dsxuser/.cache/pip/wheels/6a/42/50/f96888116b329578304f9dda4693cef6f3e76e18272d22cb6c\nSuccessfully built ibm-watson ibm-cloud-sdk-core\nInstalling collected packages: websocket-client, PyJWT, ibm-cloud-sdk-core, ibm-watson\nSuccessfully installed PyJWT-1.7.1 ibm-cloud-sdk-core-1.5.1 ibm-watson-4.5.0 websocket-client-0.48.0\nCollecting wget\n  Downloading https://files.pythonhosted.org/packages/47/6a/62e288da7bcda82b935ff0c6cfe542970f04e29c756b0e147251b2fb251f/wget-3.2.zip\nBuilding wheels for collected packages: wget\n  Building wheel for wget (setup.py) ... \u001b[?25ldone\n\u001b[?25h  Stored in directory: /home/dsxuser/.cache/pip/wheels/40/15/30/7d8f7cea2902b4db79e3fea550d7d7b85ecb27ef992b618f3f\nSuccessfully built wget\nInstalling collected packages: wget\nSuccessfully installed wget-3.2\n"
                }
            ],
            "source": "#you will need the following library \n!pip install ibm_watson\n!pip install wget\nimport json \nfrom os.path import join, dirname \nfrom ibm_watson import SpeechToTextV1 \nfrom ibm_watson.websocket import RecognizeCallback, AudioSource \nfrom ibm_cloud_sdk_core.authenticators import IAMAuthenticator "
        },
        {
            "cell_type": "markdown",
            "metadata": {},
            "source": "<h2 id=\"ref0\">Speech to Text</h2>"
        },
        {
            "cell_type": "markdown",
            "metadata": {},
            "source": "<p>First we import <code>SpeechToTextV1</code> from <code>ibm_watson</code>.For more information on the API, please click on this <a href=\"https://cloud.ibm.com/apidocs/speech-to-text?code=python\">link</a></p>"
        },
        {
            "cell_type": "code",
            "execution_count": 2,
            "metadata": {
                "jupyter": {
                    "outputs_hidden": false
                }
            },
            "outputs": [],
            "source": "from ibm_watson import SpeechToTextV1 \nimport json\nfrom ibm_cloud_sdk_core.authenticators import IAMAuthenticator"
        },
        {
            "cell_type": "markdown",
            "metadata": {},
            "source": "<p>The service endpoint is based on the location of the service instance, we store the information in the variable URL. To find out which URL to use, view the service credentials.</p>"
        },
        {
            "cell_type": "code",
            "execution_count": 3,
            "metadata": {},
            "outputs": [],
            "source": "url_s2t = \"https://api.eu-gb.speech-to-text.watson.cloud.ibm.com/instances/fe871ca2-9bce-41f7-bbe9-1a5c19c5c407\""
        },
        {
            "cell_type": "markdown",
            "metadata": {},
            "source": "<p>You require an API key, and you can obtain the key on the <a href=\"https://cloud.ibm.com/resources\">Dashboard </a>.</p>"
        },
        {
            "cell_type": "code",
            "execution_count": 4,
            "metadata": {
                "jupyter": {
                    "outputs_hidden": false
                }
            },
            "outputs": [],
            "source": "iam_apikey_s2t = \"gHtgRcnbNPY-FwldcRlWYYUv16fdX1m-HVK9dduGx1Wh\""
        },
        {
            "cell_type": "markdown",
            "metadata": {},
            "source": "<p>You create a <a href=\"http://watson-developer-cloud.github.io/python-sdk/v0.25.0/apis/watson_developer_cloud.speech_to_text_v1.html\">Speech To Text Adapter object</a> the parameters are the  endpoint and API key.</p>"
        },
        {
            "cell_type": "code",
            "execution_count": 5,
            "metadata": {},
            "outputs": [
                {
                    "data": {
                        "text/plain": "<ibm_watson.speech_to_text_v1_adapter.SpeechToTextV1Adapter at 0x7f0dac119358>"
                    },
                    "execution_count": 5,
                    "metadata": {},
                    "output_type": "execute_result"
                }
            ],
            "source": "api = IAMAuthenticator(iam_apikey_s2t)\ns2t = SpeechToTextV1(authenticator=api)\ns2t.set_service_url(url_s2t)\ns2t"
        },
        {
            "cell_type": "markdown",
            "metadata": {},
            "source": "<p>Lets download the audio file that we will use to convert into text.</p>"
        },
        {
            "cell_type": "code",
            "execution_count": 6,
            "metadata": {},
            "outputs": [],
            "source": "import wget\nurl = 'https://s3-api.us-geo.objectstorage.softlayer.net/cf-courses-data/CognitiveClass/PY0101EN/labs/PolynomialRegressionandPipelines.mp3'\nfilename = wget.download(url)"
        },
        {
            "cell_type": "markdown",
            "metadata": {},
            "source": "<p>We have the path of the wav file we would like to convert to text</p>"
        },
        {
            "cell_type": "code",
            "execution_count": 7,
            "metadata": {
                "jupyter": {
                    "outputs_hidden": false
                }
            },
            "outputs": [
                {
                    "data": {
                        "text/plain": "'PolynomialRegressionandPipelines.mp3'"
                    },
                    "execution_count": 7,
                    "metadata": {},
                    "output_type": "execute_result"
                }
            ],
            "source": "filename"
        },
        {
            "cell_type": "markdown",
            "metadata": {},
            "source": "<p>We create the file object <code>wav</code> with the wav file using  <code>open</code> ; we set the <code>mode</code> to  \"rb\" ,  this is similar to read mode, but it ensures the file is in binary mode.We use the method <code>recognize</code> to return the recognized text. The parameter audio is the file object <code>wav</code>, the parameter <code>content_type</code> is the format of the audio file.</p>"
        },
        {
            "cell_type": "code",
            "execution_count": 8,
            "metadata": {
                "jupyter": {
                    "outputs_hidden": false
                }
            },
            "outputs": [],
            "source": "with open(filename,mode='rb') as audio_file: \n    response = s2t.recognize(audio=audio_file, content_type='audio/mp3').get_result()"
        },
        {
            "cell_type": "markdown",
            "metadata": {},
            "source": "<p>The attribute result contains a dictionary that includes the translation:</p>"
        },
        {
            "cell_type": "code",
            "execution_count": 9,
            "metadata": {},
            "outputs": [
                {
                    "name": "stdout",
                    "output_type": "stream",
                    "text": "{'result_index': 0, 'results': [{'final': True, 'alternatives': [{'transcript': 'in this video we will cover polynomial regression and pipelines ', 'confidence': 0.94}]}, {'final': True, 'alternatives': [{'transcript': \"what do we do when a linear model is not the best fit for our data let's look into another type of regression model the polynomial regression we transform our data into a polynomial then use linear regression to fit the parameters that we will discuss pipelines pipelines are way to simplify your code \", 'confidence': 0.9}]}, {'final': True, 'alternatives': [{'transcript': \"polynomial regression is a special case of the general linear regression this method is beneficial for describing curvilinear relationships what is a curvilinear relationship it's what you get by squaring or setting higher order terms of the predictor variables in the model transforming the data the model can be quadratic which means the predictor variable in the model is squared we use a bracket to indicated as an exponent this is the second order polynomial regression with a figure representing the function \", 'confidence': 0.95}]}, {'final': True, 'alternatives': [{'transcript': 'the model can be cubic which means the predictor variable is cute this is the third order polynomial regression we see by examining the figure that the function has more variation ', 'confidence': 0.95}]}, {'final': True, 'alternatives': [{'transcript': \"there also exists higher order polynomial regressions when a good fit hasn't been achieved by second or third order we can see in figures how much the graphs change when we change the order of the polynomial regression the degree of the regression makes a big difference and can result in a better fit if you pick the right value in all cases the relationship between the variable in the parameter is always linear \", 'confidence': 0.91}]}, {'final': True, 'alternatives': [{'transcript': \"let's look at an example from our data we generate a polynomial regression model \", 'confidence': 0.89}]}, {'final': True, 'alternatives': [{'transcript': 'in python we do this by using the poly fit function in this example we develop a third order polynomial regression model base we can print out the model symbolic form for the model is given by the following expression ', 'confidence': 0.92}]}, {'final': True, 'alternatives': [{'transcript': \"negative one point five five seven X. one cute plus two hundred four point eight X. one squared plus eight thousand nine hundred sixty five X. one plus one point three seven times ten to the power of five we can also have multi dimensional polynomial linear regression the expression can get complicated here are just some of the terms for two dimensional second order polynomial none pies poly fit function cannot perform this type of regression we use the preprocessing librarian scikit learn to create a polynomial feature object the constructor takes the degree of the polynomial as a parameter then we transform the features into a polynomial feature with the fit underscore transform method let's do a more intuitive example \", 'confidence': 0.9}]}, {'final': True, 'alternatives': [{'transcript': 'consider the feature shown here applying the method we transform the data we now have a new set of features that are transformed version of our original features as that I mention of the data gets larger we may want to normalize multiple features as scikit learn instead we can use the preprocessing module to simplify many tasks for example we can standardize each feature simultaneously we import standard scaler we train the object fit the scale object then transform the data into a new data frame on a rate X. underscore scale there are more normalization methods available in the pre processing library as well as other transformations we can simplify our code by using a pipeline library there are many steps to getting a prediction for example normalization polynomial transform and linear regression we simplify the process using a pipeline ', 'confidence': 0.9}]}, {'final': True, 'alternatives': [{'transcript': 'pipeline sequentially perform a series of transformations the last step carries out a prediction first we import all the modules we need then we import the library pipeline we create a list of topples the first element in the topple contains the name of the estimator model the second element contains model constructor we input the list in the pipeline constructor we now have a pipeline object we can train the pipeline by applying the train method to the pipeline object we can also produce a prediction as well ', 'confidence': 0.89}]}, {'final': True, 'alternatives': [{'transcript': 'the method normalizes the data performs a polynomial transform then outputs a prediction ', 'confidence': 0.89}]}]}\n"
                }
            ],
            "source": "print(response)"
        },
        {
            "cell_type": "code",
            "execution_count": 11,
            "metadata": {},
            "outputs": [
                {
                    "data": {
                        "text/html": "<div>\n<style scoped>\n    .dataframe tbody tr th:only-of-type {\n        vertical-align: middle;\n    }\n\n    .dataframe tbody tr th {\n        vertical-align: top;\n    }\n\n    .dataframe thead th {\n        text-align: right;\n    }\n</style>\n<table border=\"1\" class=\"dataframe\">\n  <thead>\n    <tr style=\"text-align: right;\">\n      <th></th>\n      <th>result_index</th>\n      <th>results</th>\n    </tr>\n  </thead>\n  <tbody>\n    <tr>\n      <th>0</th>\n      <td>0</td>\n      <td>[{'final': True, 'alternatives': [{'transcript...</td>\n    </tr>\n  </tbody>\n</table>\n</div>",
                        "text/plain": "   result_index                                            results\n0             0  [{'final': True, 'alternatives': [{'transcript..."
                    },
                    "execution_count": 11,
                    "metadata": {},
                    "output_type": "execute_result"
                }
            ],
            "source": "from pandas.io.json import json_normalize\n\njson_normalize(response)"
        },
        {
            "cell_type": "code",
            "execution_count": 12,
            "metadata": {},
            "outputs": [
                {
                    "data": {
                        "text/plain": "{'result_index': 0,\n 'results': [{'final': True,\n   'alternatives': [{'transcript': 'in this video we will cover polynomial regression and pipelines ',\n     'confidence': 0.94}]},\n  {'final': True,\n   'alternatives': [{'transcript': \"what do we do when a linear model is not the best fit for our data let's look into another type of regression model the polynomial regression we transform our data into a polynomial then use linear regression to fit the parameters that we will discuss pipelines pipelines are way to simplify your code \",\n     'confidence': 0.9}]},\n  {'final': True,\n   'alternatives': [{'transcript': \"polynomial regression is a special case of the general linear regression this method is beneficial for describing curvilinear relationships what is a curvilinear relationship it's what you get by squaring or setting higher order terms of the predictor variables in the model transforming the data the model can be quadratic which means the predictor variable in the model is squared we use a bracket to indicated as an exponent this is the second order polynomial regression with a figure representing the function \",\n     'confidence': 0.95}]},\n  {'final': True,\n   'alternatives': [{'transcript': 'the model can be cubic which means the predictor variable is cute this is the third order polynomial regression we see by examining the figure that the function has more variation ',\n     'confidence': 0.95}]},\n  {'final': True,\n   'alternatives': [{'transcript': \"there also exists higher order polynomial regressions when a good fit hasn't been achieved by second or third order we can see in figures how much the graphs change when we change the order of the polynomial regression the degree of the regression makes a big difference and can result in a better fit if you pick the right value in all cases the relationship between the variable in the parameter is always linear \",\n     'confidence': 0.91}]},\n  {'final': True,\n   'alternatives': [{'transcript': \"let's look at an example from our data we generate a polynomial regression model \",\n     'confidence': 0.89}]},\n  {'final': True,\n   'alternatives': [{'transcript': 'in python we do this by using the poly fit function in this example we develop a third order polynomial regression model base we can print out the model symbolic form for the model is given by the following expression ',\n     'confidence': 0.92}]},\n  {'final': True,\n   'alternatives': [{'transcript': \"negative one point five five seven X. one cute plus two hundred four point eight X. one squared plus eight thousand nine hundred sixty five X. one plus one point three seven times ten to the power of five we can also have multi dimensional polynomial linear regression the expression can get complicated here are just some of the terms for two dimensional second order polynomial none pies poly fit function cannot perform this type of regression we use the preprocessing librarian scikit learn to create a polynomial feature object the constructor takes the degree of the polynomial as a parameter then we transform the features into a polynomial feature with the fit underscore transform method let's do a more intuitive example \",\n     'confidence': 0.9}]},\n  {'final': True,\n   'alternatives': [{'transcript': 'consider the feature shown here applying the method we transform the data we now have a new set of features that are transformed version of our original features as that I mention of the data gets larger we may want to normalize multiple features as scikit learn instead we can use the preprocessing module to simplify many tasks for example we can standardize each feature simultaneously we import standard scaler we train the object fit the scale object then transform the data into a new data frame on a rate X. underscore scale there are more normalization methods available in the pre processing library as well as other transformations we can simplify our code by using a pipeline library there are many steps to getting a prediction for example normalization polynomial transform and linear regression we simplify the process using a pipeline ',\n     'confidence': 0.9}]},\n  {'final': True,\n   'alternatives': [{'transcript': 'pipeline sequentially perform a series of transformations the last step carries out a prediction first we import all the modules we need then we import the library pipeline we create a list of topples the first element in the topple contains the name of the estimator model the second element contains model constructor we input the list in the pipeline constructor we now have a pipeline object we can train the pipeline by applying the train method to the pipeline object we can also produce a prediction as well ',\n     'confidence': 0.89}]},\n  {'final': True,\n   'alternatives': [{'transcript': 'the method normalizes the data performs a polynomial transform then outputs a prediction ',\n     'confidence': 0.89}]}]}"
                    },
                    "execution_count": 12,
                    "metadata": {},
                    "output_type": "execute_result"
                }
            ],
            "source": "response"
        },
        {
            "cell_type": "markdown",
            "metadata": {},
            "source": "<p>We can obtain the recognized text and assign it to the variable <code>recognized_text</code>:</p>"
        },
        {
            "cell_type": "code",
            "execution_count": 26,
            "metadata": {
                "jupyter": {
                    "outputs_hidden": false
                }
            },
            "outputs": [
                {
                    "data": {
                        "text/plain": "'in this video we will cover polynomial regression and pipelines '"
                    },
                    "execution_count": 26,
                    "metadata": {},
                    "output_type": "execute_result"
                }
            ],
            "source": "recognized_text=response['results'][0][\"alternatives\"][0][\"transcript\"]\ntype(recognized_text)\nrecognized_text"
        },
        {
            "cell_type": "markdown",
            "metadata": {},
            "source": "<h2 id=\"ref1\">Language Translator</h2>"
        },
        {
            "cell_type": "markdown",
            "metadata": {},
            "source": "<p>First we import <code>LanguageTranslatorV3</code> from ibm_watson. For more information on the API click <a href=\"https://cloud.ibm.com/apidocs/speech-to-text?code=python\"> here</a></p>"
        },
        {
            "cell_type": "code",
            "execution_count": 15,
            "metadata": {},
            "outputs": [],
            "source": "from ibm_watson import LanguageTranslatorV3"
        },
        {
            "cell_type": "markdown",
            "metadata": {},
            "source": "<p>The service endpoint is based on the location of the service instance, we store the information in the variable URL. To find out which URL to use, view the service credentials.</p>"
        },
        {
            "cell_type": "code",
            "execution_count": 16,
            "metadata": {
                "jupyter": {
                    "outputs_hidden": false
                }
            },
            "outputs": [],
            "source": "url_lt='https://api.eu-gb.language-translator.watson.cloud.ibm.com/instances/b161cd05-90e8-4445-bfbc-98d15cb02d67'"
        },
        {
            "cell_type": "markdown",
            "metadata": {},
            "source": "<p>You require an API key, and you can obtain the key on the <a href=\"https://cloud.ibm.com/resources\">Dashboard</a>.</p>"
        },
        {
            "cell_type": "code",
            "execution_count": 17,
            "metadata": {
                "jupyter": {
                    "outputs_hidden": false
                }
            },
            "outputs": [],
            "source": "apikey_lt='_4KCFE-PrnaXnNm-oVGuTrurcrtyKB87KkYKZH8GzeOd'"
        },
        {
            "cell_type": "markdown",
            "metadata": {},
            "source": "<p>API requests require a version parameter that takes a date in the format version=YYYY-MM-DD. This lab describes the current version of Language Translator, 2018-05-01</p>"
        },
        {
            "cell_type": "code",
            "execution_count": 18,
            "metadata": {
                "jupyter": {
                    "outputs_hidden": false
                }
            },
            "outputs": [],
            "source": "version_lt='2018-05-01'"
        },
        {
            "cell_type": "markdown",
            "metadata": {},
            "source": "<p>we create a  Language Translator object <code>language_translator</code>:</p>"
        },
        {
            "cell_type": "code",
            "execution_count": 22,
            "metadata": {
                "jupyter": {
                    "outputs_hidden": false
                }
            },
            "outputs": [
                {
                    "data": {
                        "text/plain": "{'languages': [{'language': 'af', 'name': 'Afrikaans'},\n  {'language': 'ar', 'name': 'Arabic'},\n  {'language': 'az', 'name': 'Azerbaijani'},\n  {'language': 'ba', 'name': 'Bashkir'},\n  {'language': 'be', 'name': 'Belarusian'},\n  {'language': 'bg', 'name': 'Bulgarian'},\n  {'language': 'bn', 'name': 'Bengali'},\n  {'language': 'ca', 'name': 'Catalan'},\n  {'language': 'cs', 'name': 'Czech'},\n  {'language': 'cv', 'name': 'Chuvash'},\n  {'language': 'cy', 'name': 'Welsh'},\n  {'language': 'da', 'name': 'Danish'},\n  {'language': 'de', 'name': 'German'},\n  {'language': 'el', 'name': 'Greek'},\n  {'language': 'en', 'name': 'English'},\n  {'language': 'eo', 'name': 'Esperanto'},\n  {'language': 'es', 'name': 'Spanish'},\n  {'language': 'et', 'name': 'Estonian'},\n  {'language': 'eu', 'name': 'Basque'},\n  {'language': 'fa', 'name': 'Persian'},\n  {'language': 'fi', 'name': 'Finnish'},\n  {'language': 'fr', 'name': 'French'},\n  {'language': 'ga', 'name': 'Irish'},\n  {'language': 'gu', 'name': 'Gujarati'},\n  {'language': 'he', 'name': 'Hebrew'},\n  {'language': 'hi', 'name': 'Hindi'},\n  {'language': 'hr', 'name': 'Croatian'},\n  {'language': 'ht', 'name': 'Haitian'},\n  {'language': 'hu', 'name': 'Hungarian'},\n  {'language': 'hy', 'name': 'Armenian'},\n  {'language': 'is', 'name': 'Icelandic'},\n  {'language': 'it', 'name': 'Italian'},\n  {'language': 'ja', 'name': 'Japanese'},\n  {'language': 'ka', 'name': 'Georgian'},\n  {'language': 'kk', 'name': 'Kazakh'},\n  {'language': 'km', 'name': 'Central Khmer'},\n  {'language': 'ko', 'name': 'Korean'},\n  {'language': 'ku', 'name': 'Kurdish'},\n  {'language': 'ky', 'name': 'Kirghiz'},\n  {'language': 'lo', 'name': 'Lao'},\n  {'language': 'lt', 'name': 'Lithuanian'},\n  {'language': 'lv', 'name': 'Latvian'},\n  {'language': 'ml', 'name': 'Malayalam'},\n  {'language': 'mn', 'name': 'Mongolian'},\n  {'language': 'mr', 'name': 'Marathi'},\n  {'language': 'ms', 'name': 'Malay'},\n  {'language': 'mt', 'name': 'Maltese'},\n  {'language': 'my', 'name': 'Burmese'},\n  {'language': 'nb', 'name': 'Norwegian Bokmal'},\n  {'language': 'ne', 'name': 'Nepali'},\n  {'language': 'nl', 'name': 'Dutch'},\n  {'language': 'nn', 'name': 'Norwegian Nynorsk'},\n  {'language': 'pa', 'name': 'Punjabi'},\n  {'language': 'pa-PK', 'name': 'Punjabi (Shahmukhi script, Pakistan)'},\n  {'language': 'pl', 'name': 'Polish'},\n  {'language': 'ps', 'name': 'Pushto'},\n  {'language': 'pt', 'name': 'Portuguese'},\n  {'language': 'ro', 'name': 'Romanian'},\n  {'language': 'ru', 'name': 'Russian'},\n  {'language': 'si', 'name': 'Sinhala'},\n  {'language': 'sk', 'name': 'Slovakian'},\n  {'language': 'sl', 'name': 'Slovenian'},\n  {'language': 'so', 'name': 'Somali'},\n  {'language': 'sq', 'name': 'Albanian'},\n  {'language': 'sr', 'name': 'Serbian'},\n  {'language': 'sv', 'name': 'Swedish'},\n  {'language': 'ta', 'name': 'Tamil'},\n  {'language': 'te', 'name': 'Telugu'},\n  {'language': 'th', 'name': 'Thai'},\n  {'language': 'tl', 'name': 'Tagalog'},\n  {'language': 'tr', 'name': 'Turkish'},\n  {'language': 'uk', 'name': 'Ukrainian'},\n  {'language': 'ur', 'name': 'Urdu'},\n  {'language': 'vi', 'name': 'Vietnamese'},\n  {'language': 'zh', 'name': 'Simplified Chinese'},\n  {'language': 'zh-TW', 'name': 'Traditional Chinese'}]}"
                    },
                    "execution_count": 22,
                    "metadata": {},
                    "output_type": "execute_result"
                }
            ],
            "source": "authenticator = IAMAuthenticator(apikey_lt)\nlanguage_translator = LanguageTranslatorV3(version=version_lt,authenticator=authenticator)\nlanguage_translator.set_service_url(url_lt)\nlanguage_translator.list_identifiable_languages().get_result()"
        },
        {
            "cell_type": "markdown",
            "metadata": {},
            "source": "<p>We can get a Lists the languages that the service can identify.\nThe method Returns the language code.  For example English (en) to  Spanis (es) and name of each language.</p>"
        },
        {
            "cell_type": "code",
            "execution_count": 29,
            "metadata": {
                "jupyter": {
                    "outputs_hidden": false
                }
            },
            "outputs": [
                {
                    "data": {
                        "text/html": "<div>\n<style scoped>\n    .dataframe tbody tr th:only-of-type {\n        vertical-align: middle;\n    }\n\n    .dataframe tbody tr th {\n        vertical-align: top;\n    }\n\n    .dataframe thead th {\n        text-align: right;\n    }\n</style>\n<table border=\"1\" class=\"dataframe\">\n  <thead>\n    <tr style=\"text-align: right;\">\n      <th></th>\n      <th>languages</th>\n    </tr>\n  </thead>\n  <tbody>\n    <tr>\n      <th>0</th>\n      <td>[{'language': 'af', 'name': 'Afrikaans'}, {'la...</td>\n    </tr>\n  </tbody>\n</table>\n</div>",
                        "text/plain": "                                           languages\n0  [{'language': 'af', 'name': 'Afrikaans'}, {'la..."
                    },
                    "execution_count": 29,
                    "metadata": {},
                    "output_type": "execute_result"
                }
            ],
            "source": "from pandas.io.json import json_normalize\n\njson_normalize(language_translator.list_identifiable_languages().get_result())"
        },
        {
            "cell_type": "markdown",
            "metadata": {},
            "source": "<p>We can use the method <code>translate</code> this will translate the text. The parameter text is the text. Model_id is the type of model we would like to use use we use list the the langwich . In this case, we set it to 'en-es' or English to Spanish. We get a Detailed Response object translation_response</p>"
        },
        {
            "cell_type": "code",
            "execution_count": 27,
            "metadata": {
                "jupyter": {
                    "outputs_hidden": false
                }
            },
            "outputs": [
                {
                    "data": {
                        "text/plain": "<ibm_cloud_sdk_core.detailed_response.DetailedResponse at 0x7f0d817cbd30>"
                    },
                    "execution_count": 27,
                    "metadata": {},
                    "output_type": "execute_result"
                }
            ],
            "source": "translation_response = language_translator.translate(\\\n    text=recognized_text, model_id='en-es')\ntranslation_response"
        },
        {
            "cell_type": "markdown",
            "metadata": {},
            "source": "<p>The result is a dictionary.</p>"
        },
        {
            "cell_type": "code",
            "execution_count": 28,
            "metadata": {
                "jupyter": {
                    "outputs_hidden": false
                }
            },
            "outputs": [
                {
                    "data": {
                        "text/plain": "{'translations': [{'translation': 'en este v\u00eddeo cubriremos la regresi\u00f3n polin\u00f3mica y las tuber\u00edas '}],\n 'word_count': 0,\n 'character_count': 64}"
                    },
                    "execution_count": 28,
                    "metadata": {},
                    "output_type": "execute_result"
                }
            ],
            "source": "translation=translation_response.get_result()\ntranslation"
        },
        {
            "cell_type": "markdown",
            "metadata": {},
            "source": "<p>We can obtain the actual translation as a string as follows:</p>"
        },
        {
            "cell_type": "code",
            "execution_count": 30,
            "metadata": {},
            "outputs": [
                {
                    "data": {
                        "text/plain": "'en este v\u00eddeo cubriremos la regresi\u00f3n polin\u00f3mica y las tuber\u00edas '"
                    },
                    "execution_count": 30,
                    "metadata": {},
                    "output_type": "execute_result"
                }
            ],
            "source": "spanish_translation =translation['translations'][0]['translation']\nspanish_translation "
        },
        {
            "cell_type": "markdown",
            "metadata": {},
            "source": "<p>We can translate back to English</p>"
        },
        {
            "cell_type": "code",
            "execution_count": 31,
            "metadata": {},
            "outputs": [],
            "source": "translation_new = language_translator.translate(text=spanish_translation ,model_id='es-en').get_result()"
        },
        {
            "cell_type": "markdown",
            "metadata": {},
            "source": "<p>We can obtain the actual translation as a string as follows:</p>"
        },
        {
            "cell_type": "code",
            "execution_count": 32,
            "metadata": {},
            "outputs": [
                {
                    "data": {
                        "text/plain": "'in this video we will cover the polynomial regression and the pipes '"
                    },
                    "execution_count": 32,
                    "metadata": {},
                    "output_type": "execute_result"
                }
            ],
            "source": "translation_eng=translation_new['translations'][0]['translation']\ntranslation_eng"
        },
        {
            "cell_type": "markdown",
            "metadata": {},
            "source": "<p>We can convert it to french as well:</p>"
        },
        {
            "cell_type": "code",
            "execution_count": 33,
            "metadata": {},
            "outputs": [],
            "source": "French_translation=language_translator.translate(\n    text=translation_eng , model_id='en-fr').get_result()"
        },
        {
            "cell_type": "code",
            "execution_count": 34,
            "metadata": {},
            "outputs": [
                {
                    "data": {
                        "text/plain": "'Dans cette vid\u00e9o nous couvrons la r\u00e9gression polynomiale et les tuyaux '"
                    },
                    "execution_count": 34,
                    "metadata": {},
                    "output_type": "execute_result"
                }
            ],
            "source": "French_translation['translations'][0]['translation']"
        },
        {
            "cell_type": "markdown",
            "metadata": {},
            "source": "<h3>Language Translator</h3>"
        },
        {
            "cell_type": "markdown",
            "metadata": {},
            "source": " <a href=\"http://cocl.us/NotebooksPython101bottom\"><img src=\"https://ibm.box.com/shared/static/irypdxea2q4th88zu1o1tsd06dya10go.png\" width=\"750\" align=\"center\"></a>"
        },
        {
            "cell_type": "markdown",
            "metadata": {},
            "source": "<b>References</b>"
        },
        {
            "cell_type": "markdown",
            "metadata": {},
            "source": "https://cloud.ibm.com/apidocs/speech-to-text?code=python"
        },
        {
            "cell_type": "markdown",
            "metadata": {},
            "source": "https://cloud.ibm.com/apidocs/language-translator?code=python"
        },
        {
            "cell_type": "markdown",
            "metadata": {},
            "source": "<hr>"
        },
        {
            "cell_type": "markdown",
            "metadata": {},
            "source": "<h4>About the Author:</h4>\n<p><a href=\"https://www.linkedin.com/in/joseph-s-50398b136/\">Joseph Santarcangelo</a> has a PhD in Electrical Engineering, his research focused on using machine learning, signal processing, and computer vision to determine how videos impact human cognition. Joseph has been working for IBM since he completed his PhD.</p>"
        },
        {
            "cell_type": "markdown",
            "metadata": {},
            "source": "Other contributor: <a href=\"https://www.linkedin.com/in/fanjiang0619/\">Fan Jiang</a>"
        },
        {
            "cell_type": "markdown",
            "metadata": {},
            "source": "Copyright &copy; 2019 [cognitiveclass.ai](https:cognitiveclass.ai). This notebook and its source code are released under the terms of the [MIT License](cognitiveclass.ai)."
        }
    ],
    "metadata": {
        "kernelspec": {
            "display_name": "Python 3.6",
            "language": "python",
            "name": "python3"
        },
        "language_info": {
            "codemirror_mode": {
                "name": "ipython",
                "version": 3
            },
            "file_extension": ".py",
            "mimetype": "text/x-python",
            "name": "python",
            "nbconvert_exporter": "python",
            "pygments_lexer": "ipython3",
            "version": "3.6.9"
        }
    },
    "nbformat": 4,
    "nbformat_minor": 4
}